{
 "cells": [
  {
   "cell_type": "code",
   "execution_count": 83,
   "metadata": {},
   "outputs": [],
   "source": [
    "import os\n"
   ]
  },
  {
   "cell_type": "code",
   "execution_count": 84,
   "metadata": {},
   "outputs": [
    {
     "data": {
      "text/plain": [
       "'c:\\\\Users\\\\vansh\\\\AI and ML reading material\\\\MLOps\\\\New folder\\\\Project 1-Chest Cancer prediction model'"
      ]
     },
     "execution_count": 84,
     "metadata": {},
     "output_type": "execute_result"
    }
   ],
   "source": [
    "pwd"
   ]
  },
  {
   "cell_type": "code",
   "execution_count": 85,
   "metadata": {},
   "outputs": [],
   "source": [
    "os.chdir('../')\n"
   ]
  },
  {
   "cell_type": "code",
   "execution_count": 86,
   "metadata": {},
   "outputs": [
    {
     "data": {
      "text/plain": [
       "'c:\\\\Users\\\\vansh\\\\AI and ML reading material\\\\MLOps\\\\New folder'"
      ]
     },
     "execution_count": 86,
     "metadata": {},
     "output_type": "execute_result"
    }
   ],
   "source": [
    "pwd"
   ]
  },
  {
   "cell_type": "code",
   "execution_count": 87,
   "metadata": {},
   "outputs": [],
   "source": [
    "os.chdir('c:\\\\Users\\\\vansh\\\\AI and ML reading material\\\\MLOps\\\\New folder\\\\Project 1-Chest Cancer prediction model')"
   ]
  },
  {
   "cell_type": "code",
   "execution_count": 88,
   "metadata": {},
   "outputs": [
    {
     "name": "stdout",
     "output_type": "stream",
     "text": [
      "C:\\Users\\vansh\\AI and ML reading material\\MLOps\\New folder\\Project 1-Chest Cancer prediction model\\config\\config.yaml\n",
      "C:\\Users\\vansh\\AI and ML reading material\\MLOps\\New folder\\Project 1-Chest Cancer prediction model\\config\\config.yaml\n",
      "True\n",
      "C:\\Users\\vansh\\AI and ML reading material\\MLOps\\New folder\\Project 1-Chest Cancer prediction model\\params.yaml\n",
      "C:\\Users\\vansh\\AI and ML reading material\\MLOps\\New folder\\Project 1-Chest Cancer prediction model\\params.yaml\n",
      "True\n"
     ]
    }
   ],
   "source": [
    "from cnnClassifier.constants import *\n",
    "yaml_path = CONFIG_FILE_PATH\n",
    "params = PARAMS_FILE_PATH\n",
    "print(yaml_path)\n",
    "print(yaml_path.resolve())\n",
    "print(yaml_path.exists())\n",
    "\n",
    "print(params)\n",
    "print(params.resolve())\n",
    "print(params.exists())"
   ]
  },
  {
   "cell_type": "code",
   "execution_count": 89,
   "metadata": {},
   "outputs": [],
   "source": [
    "from dataclasses import dataclass\n",
    "from pathlib import Path\n",
    "\n",
    "@dataclass(frozen=True)\n",
    "class DataIngestionConfig:\n",
    "    root_dir: Path\n",
    "    source_URL : str\n",
    "    local_data_file : Path\n",
    "    unzip_dir : Path"
   ]
  },
  {
   "cell_type": "code",
   "execution_count": 90,
   "metadata": {},
   "outputs": [],
   "source": [
    "from cnnClassifier.constants import *\n",
    "from cnnClassifier.utils.common import read_yaml, create_directories\n",
    "\n",
    "class ConfigurationManager:\n",
    "\n",
    "    \n",
    "    def __init__(\n",
    "            self,\n",
    "            config_filepath = CONFIG_FILE_PATH,\n",
    "            params_filepath = PARAMS_FILE_PATH\n",
    "    ):\n",
    "        \n",
    "        self.config = read_yaml(config_filepath)\n",
    "        self.params = read_yaml(params_filepath)\n",
    "\n",
    "        create_directories([self.config.artifacts_root])\n",
    "\n",
    "\n",
    "    def get_data_ingestion_config(self) -> DataIngestionConfig:\n",
    "        config = self.config.data_ingestion\n",
    "\n",
    "        create_directories([config.root_dir]) \n",
    "\n",
    "        data_ingestion_config = DataIngestionConfig(\n",
    "            root_dir=config.root_dir,\n",
    "            source_URL=config.source_URL,\n",
    "            local_data_file=config.local_data_file,\n",
    "            unzip_dir=config.unzip_dir\n",
    "        )   \n",
    "\n",
    "        return data_ingestion_config\n",
    "\n",
    "        "
   ]
  },
  {
   "cell_type": "code",
   "execution_count": 91,
   "metadata": {},
   "outputs": [],
   "source": [
    "import os\n",
    "import zipfile\n",
    "import gdown\n",
    "from cnnClassifier import logger\n",
    "from cnnClassifier.utils.common import get_size"
   ]
  },
  {
   "cell_type": "code",
   "execution_count": 92,
   "metadata": {},
   "outputs": [],
   "source": [
    "class DataIngestion:\n",
    "    def __init__(self, config: DataIngestionConfig):\n",
    "        self.config = config\n",
    "\n",
    "    def download_file(self)-> str:\n",
    "        '''\n",
    "        Fetch data from the url\n",
    "        '''\n",
    "\n",
    "        try: \n",
    "            dataset_url = self.config.source_URL\n",
    "            zip_download_dir = self.config.local_data_file\n",
    "            os.makedirs(\"artifacts/data_ingestion\", exist_ok=True)\n",
    "            logger.info(f\"Downloading data from {dataset_url} into file {zip_download_dir}\")\n",
    "\n",
    "            file_id = dataset_url.split(\"/\")[-2]\n",
    "            prefix = 'https://drive.google.com/uc?/export=download&id=' #This is the url format to download any file from google drive.\n",
    "            gdown.download(prefix+file_id,zip_download_dir) #we have to add the file_id with the prefix.\n",
    "\n",
    "            logger.info(f\"Downloaded data from {dataset_url} into file {zip_download_dir}\")\n",
    "\n",
    "        except Exception as e:\n",
    "            raise e\n",
    "        \n",
    "    def extract_zip_file(self):\n",
    "        \"\"\"Extracts zip file into data directory\"\"\"\n",
    "        unzip_path = self.config.unzip_dir\n",
    "        os.makedirs(unzip_path, exist_ok=True)\n",
    "        with zipfile.ZipFile(self.config.local_data_file) as zip_ref:\n",
    "            zip_ref.extractall(unzip_path)\n",
    "            \n",
    "            \n"
   ]
  },
  {
   "cell_type": "code",
   "execution_count": 93,
   "metadata": {},
   "outputs": [
    {
     "name": "stdout",
     "output_type": "stream",
     "text": [
      "[2024-08-13 13:33:44,078: INFO: common: yaml file: C:\\Users\\vansh\\AI and ML reading material\\MLOps\\New folder\\Project 1-Chest Cancer prediction model\\config\\config.yaml load successfully]\n",
      "{'artifacts_root': 'artifacts', 'data_ingestion': {'root_dir': 'artifacts/data_ingestion', 'source_URL': 'https://drive.google.com/file/d/1ucuX5BjM-DBkSRfhMooyUqW3A7PixUZ3/view?usp=sharing', 'local_data_file': 'artifacts/data_ingestion/data.zip', 'unzip_dir': 'artifacts/data_ingestion'}}\n",
      "[2024-08-13 13:33:44,079: INFO: common: yaml file: C:\\Users\\vansh\\AI and ML reading material\\MLOps\\New folder\\Project 1-Chest Cancer prediction model\\params.yaml load successfully]\n",
      "{'key': 'val'}\n",
      "[2024-08-13 13:33:44,081: INFO: common: created directory at :artifacts]\n",
      "[2024-08-13 13:33:44,082: INFO: common: created directory at :artifacts/data_ingestion]\n",
      "[2024-08-13 13:33:44,082: INFO: 187801436: Downloading data from https://drive.google.com/file/d/1ucuX5BjM-DBkSRfhMooyUqW3A7PixUZ3/view?usp=sharing into file artifacts/data_ingestion/data.zip]\n"
     ]
    },
    {
     "name": "stderr",
     "output_type": "stream",
     "text": [
      "Downloading...\n",
      "From (original): https://drive.google.com/uc?/export=download&id=1ucuX5BjM-DBkSRfhMooyUqW3A7PixUZ3\n",
      "From (redirected): https://drive.google.com/uc?%2Fexport=download&id=1ucuX5BjM-DBkSRfhMooyUqW3A7PixUZ3&confirm=t&uuid=cada4abe-2198-41c0-b909-fa3886996052\n",
      "To: c:\\Users\\vansh\\AI and ML reading material\\MLOps\\New folder\\Project 1-Chest Cancer prediction model\\artifacts\\data_ingestion\\data.zip\n",
      "100%|██████████| 121M/121M [00:26<00:00, 4.55MB/s] \n"
     ]
    },
    {
     "name": "stdout",
     "output_type": "stream",
     "text": [
      "[2024-08-13 13:34:16,762: INFO: 187801436: Downloaded data from https://drive.google.com/file/d/1ucuX5BjM-DBkSRfhMooyUqW3A7PixUZ3/view?usp=sharing into file artifacts/data_ingestion/data.zip]\n"
     ]
    }
   ],
   "source": [
    "try:\n",
    "    config = ConfigurationManager()\n",
    "    data_ingestion_config = config.get_data_ingestion_config()\n",
    "    data_ingestion = DataIngestion(config=data_ingestion_config)\n",
    "    data_ingestion.download_file()\n",
    "    data_ingestion.extract_zip_file()\n",
    "\n",
    "except Exception as e:\n",
    "    raise e"
   ]
  },
  {
   "cell_type": "code",
   "execution_count": null,
   "metadata": {},
   "outputs": [],
   "source": []
  }
 ],
 "metadata": {
  "kernelspec": {
   "display_name": "mlops",
   "language": "python",
   "name": "python3"
  },
  "language_info": {
   "codemirror_mode": {
    "name": "ipython",
    "version": 3
   },
   "file_extension": ".py",
   "mimetype": "text/x-python",
   "name": "python",
   "nbconvert_exporter": "python",
   "pygments_lexer": "ipython3",
   "version": "3.11.3"
  }
 },
 "nbformat": 4,
 "nbformat_minor": 2
}
